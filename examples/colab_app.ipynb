{
 "cells": [
  {
   "cell_type": "markdown",
   "metadata": {},
   "source": [
    "# Initialization\n",
    "\n",
    "*Define functions, constants, and UIs*"
   ]
  },
  {
   "cell_type": "code",
   "execution_count": 1,
   "metadata": {},
   "outputs": [],
   "source": [
    "!python -m pip install litemapy==0.9.0b0\n",
    "\n",
    "\n",
    "from math import sin, cos, atan, degrees, radians, dist\n",
    "from skimage.draw import line_nd\n",
    "import ipywidgets as w\n",
    "import numpy as np\n",
    "from matplotlib import pyplot as plt\n",
    "from os.path import isfile\n",
    "from litemapy import Schematic, Region, BlockState\n",
    "\n",
    "\n",
    "# Constants\n",
    "MAX_PATTERN_SIZE = 100\n",
    "COLOR_MIN_VALUE = 0.12\n",
    "BASE_SXN_SIZE = 16\n",
    "BOAT_ANGLES = [1.40625*placement for placement in range(-127,128)] + [180.0]\n",
    "APPARENT_BOAT_ANGLES = [round(angle, 1) if angle > 0.0 else -1*round(abs(angle)+0.000000001, 1) for angle in BOAT_ANGLES]\n",
    "BLOCK_OPTIONS = [\n",
    "    'minecraft:blue_ice',\n",
    "    'minecraft:packed_ice',\n",
    "    'minecraft:ice',\n",
    "    'minecraft:stone',\n",
    "    'minecraft:stone_button',\n",
    "    'minecraft:stone_pressure_plate',\n",
    "    'minecraft:lever',\n",
    "    'minecraft:rail',\n",
    "]\n",
    "\n",
    "\n",
    "# Global variables\n",
    "boat_destination_g = (1, 1)\n",
    "blocks_g = [\n",
    "    BlockState(\"minecraft:blue_ice\"),\n",
    "    BlockState(\"minecraft:stone_button\").with_properties(face=\"floor\", facing=\"north\")\n",
    "    ]\n",
    "\n",
    "\n",
    "##################################################\n",
    "################ HELPER FUNCTIONS ################\n",
    "##################################################\n",
    "\n",
    "# Format origin and destination coordinates as tuple[int, int]\n",
    "def format_coords(origin_x: int, origin_z: int, destination_x: int, destination_z: int) -> tuple[tuple[int, int], tuple[int, int]]:\n",
    "    return (origin_x, origin_z), (destination_x, destination_z)\n",
    "\n",
    "\n",
    "# Compute the relative position of a point from an origin point\n",
    "def get_offset(p0: tuple[int, int], p1: tuple[int, int]) -> tuple[int, int]:\n",
    "    return (p1[0]-p0[0], p1[1]-p0[1])\n",
    "\n",
    "\n",
    "# Compute the angle from an origin point to another point, given the offset\n",
    "def get_angle(offset: tuple[int, int]) -> float:\n",
    "    if offset[0] == 0:\n",
    "        if offset[1] > 0:\n",
    "            return 0.0\n",
    "        if offset[1] < 0:\n",
    "            return 180.0\n",
    "        else:\n",
    "            raise ValueError(\"No offset of destination from origin\")\n",
    "    direction = degrees(atan(offset[1]/offset[0]))\n",
    "    if offset[0] > 0:\n",
    "        return direction - 90.0\n",
    "    elif offset[0] < 0:\n",
    "        return direction + 90.0\n",
    "\n",
    "\n",
    "# Format a string conveying an angle and its antipode\n",
    "def format_angles(angle: float, decimals: int = 1) -> str:\n",
    "    antipode = 0.0\n",
    "    if angle == 0.0:\n",
    "        antipode = 180.0\n",
    "    elif angle < 0.0:\n",
    "        antipode = angle + 180.0\n",
    "    elif angle > 0.0:\n",
    "        antipode = angle - 180.0\n",
    "    return f'{angle:.{decimals}f}' + \" deg | (antipode: \" + f'{antipode:.{decimals}f}' + \" deg)\"\n",
    "\n",
    "\n",
    "# Compute basic information about origin and destination\n",
    "def basics_metrics(origin_x: int, origin_z: int, destination_x: int, destination_z: int) -> tuple[tuple[int, int], float, float]:\n",
    "    origin, destination = format_coords(origin_x, origin_z, destination_x, destination_z)\n",
    "    offset = get_offset(origin, destination)\n",
    "    distance = dist(origin, destination)\n",
    "    optimal_angle = get_angle(offset)\n",
    "    return offset, distance, optimal_angle\n",
    "\n",
    "\n",
    "# Print basic information about origin and destination\n",
    "def print_basics(offset: tuple[int, int], distance: float, optimal_angle: float) -> None:\n",
    "    print(\"Destination offset:\", offset)\n",
    "    print(\"Distance:\", f'{distance:.1f}', \"blocks\")\n",
    "    print(\"True Angle:\", format_angles(optimal_angle, 5))\n",
    "\n",
    "\n",
    "# Compute the distance deviation over each block traveled, given an anglular deviation\n",
    "def get_block_error(angle_error: float) -> float:\n",
    "    return abs(2 * sin(radians(angle_error/2)))\n",
    "\n",
    "\n",
    "# Format a string conveying angle, block, and total errors\n",
    "def format_errors(angle_error: float, block_error: float, distance: float) -> str:\n",
    "    angle = \" \".join([\"'ANGLE':\", f'{angle_error:.3}', \"deg\"])\n",
    "    block = \" \".join([\"'PER BLOCK':\", f'{block_error:.3}', \"blocks\"])\n",
    "    total = \" \".join([\"'TOTAL':\", f'{distance*block_error:.2f}', \"blocks\"])\n",
    "    return \"{ \" + \", \".join([angle, block, total]) + \" }\"\n",
    "\n",
    "\n",
    "# Compute information about manual player alignment\n",
    "def manual_metrics(optimal_angle: float) -> tuple[float, float, float]:\n",
    "    apparent_angle = round(optimal_angle, 1)\n",
    "    min_angle = apparent_angle - 0.05\n",
    "    max_angle = apparent_angle + 0.05\n",
    "    if abs(optimal_angle - min_angle) > abs(optimal_angle - max_angle):\n",
    "        angle_error = optimal_angle - min_angle\n",
    "    else:\n",
    "        angle_error = optimal_angle - max_angle\n",
    "    block_error = get_block_error(angle_error)\n",
    "    return apparent_angle, angle_error, block_error\n",
    "\n",
    "\n",
    "# Print information about manual player alignment\n",
    "def print_manual(distance: float, apparent_angle: float, angle_error: float, block_error: float) -> None:\n",
    "    print(\"\\nMANUAL DIRECTION:\")\n",
    "    print(\"    Apparent (F3) angle:\", format_angles(apparent_angle))\n",
    "    print(\"    MAX Errors:\", format_errors(angle_error, block_error, distance))\n",
    "\n",
    "\n",
    "# Find the closest boat angle to a given angle\n",
    "def closest_boat_angle_index(optimal_angle: float) -> int:\n",
    "    index = 0\n",
    "    for index, angle in enumerate(BOAT_ANGLES):\n",
    "        if angle > optimal_angle:\n",
    "            break\n",
    "    if abs(optimal_angle-angle) > abs(optimal_angle-BOAT_ANGLES[index-1]):\n",
    "        index -= 1\n",
    "    return index\n",
    "\n",
    "\n",
    "# Compute information about boat player alignment\n",
    "def boat_metrics(optimal_angle: float, boat_angle_adjust: int = 0) -> tuple[float, float, float]:\n",
    "    boat_angle_index = (closest_boat_angle_index(optimal_angle) + boat_angle_adjust) % 256\n",
    "    boat_angle = BOAT_ANGLES[boat_angle_index]\n",
    "    angle_error = optimal_angle - boat_angle\n",
    "    block_error = get_block_error(angle_error)\n",
    "    return boat_angle_index, angle_error, block_error\n",
    "\n",
    "\n",
    "# Convert from polar coordinates to cartesion coordinates, factoring in a given origin point\n",
    "def polar_to_cartesian(origin: tuple[int, int], distance: float, angle: float, round_d: bool = False) -> tuple[int, int]:\n",
    "    angle_r = radians(angle)\n",
    "    destination = ((-1 * distance * sin(angle_r)) + origin[0], (distance * cos(angle_r)) + origin[1])\n",
    "    if round_d:\n",
    "        return (round(destination[0]), round(destination[1]))\n",
    "    return destination\n",
    "\n",
    "\n",
    "# Print information about boat player alignment\n",
    "def print_boat(distance: float, boat_angle_index: int, angle_error: float, block_error: float, boat_destination: tuple[int, int]) -> None:\n",
    "    print(\"\\nBOAT DIRECTION:\")\n",
    "    print(\"    Boat angle:\", format_angles(BOAT_ANGLES[boat_angle_index], 5))\n",
    "    print(\"    Apparent (F3) boat angle:\", format_angles(APPARENT_BOAT_ANGLES[boat_angle_index]))\n",
    "    print(\"    Errors:\", format_errors(angle_error, block_error, distance))\n",
    "    print(\"    Boat Destination:\", boat_destination)\n",
    "\n",
    "\n",
    "# Compute the raster of a line segment, given its length and angle\n",
    "def rasterize(distance: float, angle: float) -> list[list[int]]:\n",
    "    offset = polar_to_cartesian((0, 0), distance, angle)\n",
    "    integer_offset = (int(round(100 * offset[0], 0)), int(round(100 * offset[1], 0)))\n",
    "    raster = np.transpose(line_nd((0.0, 0.0), offset, endpoint=True)).tolist()\n",
    "    return raster\n",
    "\n",
    "\n",
    "# Add gaps to a raster and segment it into small sections for inclusion in a schematic\n",
    "def cut_sxns(raster: list[list[int]], gap_size: int) -> list[list[list[int]]]:\n",
    "    uncut_path = [coord for index, coord in enumerate(raster) if index % (gap_size + 1) == 0]\n",
    "    sxn_size = max(int(BASE_SXN_SIZE / (gap_size + 1)), 1)\n",
    "    return [[uncut_path[index] for index in range(sxn_start, min(sxn_start + sxn_size, len(uncut_path)))] for sxn_start in range(0, len(uncut_path), sxn_size)]\n",
    "\n",
    "\n",
    "# Format a name for a schematic, including the given origin and destination coordinates\n",
    "def name_schematic(origin_x: int, origin_z: int, destination_x: int, destination_z: int) -> str:\n",
    "    origin, destination = format_coords(origin_x, origin_z, destination_x, destination_z)\n",
    "    return \"path_\" + str(origin) + \"_\" + str(destination)\n",
    "\n",
    "\n",
    "# Create a Region object for a schematic, given a path (list of coordinates)\n",
    "def make_region(path: list[list[int]], blocks: list[BlockState]) -> Region:\n",
    "    if len(blocks) == 0:\n",
    "        raise ValueError(\"Must be at least one BlockState provided.\")\n",
    "    path_span = (path[-1][0] - path[0][0] + (1 if path[-1][0] >= 0 else -1), path[-1][1] - path[0][1] + (1 if path[-1][1] >= 0 else -1))\n",
    "    region = Region(path[0][0], 0, path[0][1], path_span[0], len(blocks), path_span[1])\n",
    "    for coords in path:\n",
    "        for block_index, block_state in enumerate(blocks):\n",
    "            region[coords[0] - path[0][0], block_index, coords[1] - path[0][1]] = block_state\n",
    "    return region\n",
    "\n",
    "\n",
    "# Create a unique filename if using the current filename would overwrite a file\n",
    "def smart_filename(filename: str) -> str:\n",
    "    if not isfile(filename):\n",
    "        return filename\n",
    "    split_filename = filename.rsplit('.', 1)\n",
    "    new_filename = ' (1).'.join(split_filename)\n",
    "    i = 2\n",
    "    while isfile(new_filename):\n",
    "        new_filename = f' ({i}).'.join(split_filename)\n",
    "        i += 1\n",
    "    return new_filename\n",
    "\n",
    "\n",
    "# Compute the shortest pattern in a given raster that matches the specifications, and print information about the pattern\n",
    "def find_pattern(distance: float, target_angle: float, raster: list[list[int]], block_error_thr: float, total_error_thr: float) -> tuple[list[list[int]], float, float]:\n",
    "    pattern = [raster[0]]\n",
    "    angle_error = 0.0\n",
    "    block_error = 0.0\n",
    "    for pattern_length in range(1, MAX_PATTERN_SIZE + 1):\n",
    "        pattern.append(raster[pattern_length])\n",
    "        pattern_offset = get_offset(pattern[0], pattern[-1])\n",
    "        angle_error = get_angle(pattern_offset) - target_angle\n",
    "        block_error = get_block_error(angle_error)\n",
    "        if dist((0,0), pattern_offset) >= distance:\n",
    "            break\n",
    "        if block_error <= block_error_thr:\n",
    "            break\n",
    "        if block_error * distance <= total_error_thr:\n",
    "            break\n",
    "    else:\n",
    "        print(\"\\nNO SUITABLE PATTERN FOUND WITHIN\", MAX_PATTERN_SIZE, \"BLOCKS.\")\n",
    "        return None, None, None\n",
    "    return pattern, angle_error, block_error\n",
    "\n",
    "\n",
    "# Print information about a given pattern\n",
    "def print_pattern(distance: float, pattern: list[list[int]], angle_error: float, block_error: float) -> None:\n",
    "    print(\"\\nBOAT PATH BUILD PATTERN:\")\n",
    "    print(\"    Found\", len(pattern) - 1, \"blocks long pattern:\")\n",
    "    print(\"    Iterations are offset by\", get_offset(pattern[0], pattern[-1]), \"blocks\")\n",
    "    print(\"    Errors (from boat direction):\", format_errors(angle_error, block_error, distance))\n",
    "\n",
    "\n",
    "# Display a 2D map representing the blocks in a given pattern\n",
    "def graph_pattern(pattern: list[list[int]]) -> None:\n",
    "    pattern_space = np.zeros((abs(pattern[-1][0]) + 1, abs(pattern[-1][1]) + 1))\n",
    "    for site in range(len(pattern) - 1):\n",
    "        pattern_space[(abs(pattern[site][0]), abs(pattern[site][1]))] = (len(pattern) - site) / len(pattern) + COLOR_MIN_VALUE\n",
    "    pattern_space[(abs(pattern[-1][0]), abs(pattern[-1][1]))] = 1.0 + COLOR_MIN_VALUE\n",
    "    pattern_space = np.transpose(pattern_space)\n",
    "    plt.imshow(pattern_space, cmap='turbo', interpolation='nearest')\n",
    "    if pattern[-1][0] < 0:\n",
    "        plt.gca().invert_xaxis()\n",
    "    if pattern[-1][1] < 0:\n",
    "        plt.gca().invert_yaxis()\n",
    "    plt.title(\"Start at red (0, 0), go through rainbow\\n(lone red is start of next iteration)\")\n",
    "    plt.xlabel(\"West < - > East\")\n",
    "    plt.ylabel(\"South < - > North\")\n",
    "    plt.xticks([i for i in range(abs(pattern[-1][0]) + 1)])\n",
    "    plt.yticks([i for i in range(abs(pattern[-1][1]) + 1)])\n",
    "    plt.show()\n",
    "\n",
    "\n",
    "################################################\n",
    "################ CORE FUNCTIONS ################\n",
    "################################################\n",
    "\n",
    "# Display relevant metrics related to the origin and destination\n",
    "def evaluate_angles(origin_x: int, origin_z: int, destination_x: int, destination_z: int) -> None:\n",
    "    global boat_destination_g\n",
    "    offset, distance, optimal_angle = basics_metrics(origin_x, origin_z, destination_x, destination_z)\n",
    "    print_basics(offset, distance, optimal_angle)\n",
    "    apparent_angle, apparent_angle_error, apparent_block_error = manual_metrics(optimal_angle)\n",
    "    print_manual(distance, apparent_angle, apparent_angle_error, apparent_block_error)\n",
    "    boat_angle_index, boat_angle_error, boat_block_error = boat_metrics(optimal_angle)\n",
    "    boat_destination_g = polar_to_cartesian((origin_x, origin_z), distance, BOAT_ANGLES[boat_angle_index], round_d=True)\n",
    "    print_boat(distance, boat_angle_index, boat_angle_error, boat_block_error, boat_destination_g)\n",
    "\n",
    "\n",
    "# Create and save a Litematica schematic file (.litematic); name uses the current BOAT destination\n",
    "schem_gen_output = w.Output(layout={'border': '2px solid black', 'margin': '8px', 'padding': '4px', 'width': '1000px'})\n",
    "@schem_gen_output.capture()\n",
    "def generate_schematic(b) -> None:\n",
    "    offset, distance, optimal_angle = basics_metrics(origin_x.value, origin_z.value, destination_x.value, destination_z.value)\n",
    "    boat_angle_index = boat_metrics(optimal_angle)[0]\n",
    "    raster = rasterize(distance, BOAT_ANGLES[boat_angle_index])\n",
    "    sxned_path = cut_sxns(raster, gap_size.value)\n",
    "    schem_name = name_schematic(origin_x.value, origin_z.value, boat_destination_g[0], boat_destination_g[1])\n",
    "    schem = Schematic(name=schem_name)\n",
    "    for sxn in sxned_path:\n",
    "        schem.regions[f'{sxn}'] = make_region(sxn, blocks_g)\n",
    "    filename = smart_filename(schem_name + \".litematic\")\n",
    "    schem.save(filename)\n",
    "    print(\"Saved schematic\", filename)\n",
    "\n",
    "\n",
    "# Display a repeating block coordinate pattern which approximates the path of a boat angle\n",
    "def evaluate_pattern(boat_angle_adjust: int, block_error_thr: float, total_error_thr: float, refreshing: bool) -> None:\n",
    "    if refreshing:\n",
    "        return\n",
    "    offset, distance, optimal_angle = basics_metrics(origin_x.value, origin_z.value, destination_x.value, destination_z.value)\n",
    "    boat_angle_index, boat_angle_error, boat_block_error = boat_metrics(optimal_angle, boat_angle_adjust)\n",
    "    boat_destination = polar_to_cartesian((origin_x.value, origin_z.value), distance, BOAT_ANGLES[boat_angle_index], round_d=True)\n",
    "    print_boat(distance, boat_angle_index, boat_angle_error, boat_block_error, boat_destination)\n",
    "    raster = rasterize(distance, BOAT_ANGLES[boat_angle_index])\n",
    "    pattern, pattern_angle_error, pattern_block_error = find_pattern(distance, BOAT_ANGLES[boat_angle_index], raster, block_error_thr, total_error_thr)\n",
    "    if pattern:\n",
    "        print_pattern(distance, pattern, pattern_angle_error, pattern_block_error)\n",
    "        graph_pattern(pattern)\n",
    "\n",
    "\n",
    "#####################################\n",
    "################ GUI ################\n",
    "#####################################\n",
    "\n",
    "# Swap the values of the origin and destination coordinates\n",
    "def swap_coords(b) -> None:\n",
    "    temp_x = destination_x.value\n",
    "    temp_z = destination_z.value\n",
    "    destination_x.value = origin_x.value\n",
    "    origin_x.value = temp_x\n",
    "    destination_z.value = origin_z.value\n",
    "    origin_z.value = temp_z\n",
    "\n",
    "\n",
    "# Overwrite the current destination with the boat destination\n",
    "def use_boat_dest(b) -> None:\n",
    "    destination_x.value = boat_destination_g[0]\n",
    "    destination_z.value = boat_destination_g[1]\n",
    "\n",
    "\n",
    "# Coordinates UI\n",
    "origin_l = w.Label(\"Origin:\")\n",
    "origin_l.layout = w.Layout(width='80px')\n",
    "origin_x = w.IntText()\n",
    "origin_z = w.IntText()\n",
    "destination_l = w.Label(\"Destination:\")\n",
    "destination_l.layout = w.Layout(width='80px')\n",
    "destination_x = w.IntText(value=1)\n",
    "destination_z = w.IntText(value=1)\n",
    "swap_coords_btn = w.Button(description=\"Swap Origin/Dest\")\n",
    "swap_coords_btn.on_click(swap_coords)\n",
    "boat_dest_btn = w.Button(description=\"Use Boat Destination\")\n",
    "boat_dest_btn.on_click(use_boat_dest)\n",
    "o_box = w.HBox([origin_l, origin_x, origin_z])\n",
    "d_box = w.HBox([destination_l, destination_x, destination_z])\n",
    "b_box = w.HBox([swap_coords_btn, boat_dest_btn])\n",
    "coords_ui = w.VBox([o_box, d_box, b_box])\n",
    "coords_output = w.interactive_output(evaluate_angles, {'origin_x': origin_x, 'origin_z': origin_z, 'destination_x': destination_x, 'destination_z': destination_z})\n",
    "coords_output.layout = w.Layout(border='2px solid black', margin='8px', padding='4px', width='1000px')\n",
    "\n",
    "\n",
    "# Display each block in a given list on a separate line\n",
    "def display_blocks(blocks: list[BlockState]) -> None:\n",
    "    if len(blocks) == 0:\n",
    "           display(\"None\")\n",
    "    for block in blocks:\n",
    "        display(block)\n",
    "\n",
    "\n",
    "# Add current block id and properties to schematic's path blocks\n",
    "def add_block(b) -> None:\n",
    "    blocks_g.append(BlockState(block_id_box.value).with_properties(face=face_dd.value, facing=facing_dd.value))\n",
    "    with blocks_output:\n",
    "        display_blocks(blocks_g)\n",
    "    blocks_output.clear_output(wait=True)\n",
    "\n",
    "\n",
    "# Remove all blocks from schematic's path blocks\n",
    "def clear_blocks(b) -> None:\n",
    "    blocks_g.clear()\n",
    "    with blocks_output:\n",
    "        display_blocks(blocks_g)\n",
    "    blocks_output.clear_output(wait=True)\n",
    "\n",
    "\n",
    "# Generate schematic UI\n",
    "gs_l = w.Label(\"Gap Size:\")\n",
    "gap_size = w.BoundedIntText(min=0, max=64, value=0)\n",
    "gap_size_ui = w.HBox([gs_l, gap_size])\n",
    "\n",
    "block_box_label = w.Label(\"Current Path Blocks (bottom to top):\")\n",
    "\n",
    "block_id_box = w.Combobox(value='minecraft:blue_ice', options=BLOCK_OPTIONS, description='ID:', ensure_option=False, style={'description_width': 'initial'})\n",
    "face_dd = w.Dropdown(options=[\"floor\", \"ceiling\", \"wall\"], description=\", Face:\", style={'description_width': 'initial'})\n",
    "facing_dd = w.Dropdown(options=[\"north\", \"south\", \"west\", \"east\"], description=\", Facing:\", style={'description_width': 'initial'})\n",
    "blockstate_box = w.HBox([block_id_box, face_dd, facing_dd])\n",
    "\n",
    "add_block_btn = w.Button(description=\"Add Block\")\n",
    "add_block_btn.on_click(add_block)\n",
    "clear_blocks_btn = w.Button(description=\"Clear Blocks\")\n",
    "clear_blocks_btn.on_click(clear_blocks)\n",
    "blocks_buttons_box = w.HBox([add_block_btn, clear_blocks_btn])\n",
    "\n",
    "manage_blocks_ui = w.VBox([blockstate_box, blocks_buttons_box])\n",
    "manage_blocks_ui.layout = w.Layout(border='2px solid green', margin='8px', padding='4px', width='640px')\n",
    "\n",
    "schematic_button = w.Button(description=\"Generate Schematic\")\n",
    "schematic_button.on_click(generate_schematic)\n",
    "\n",
    "blocks_output = w.Output(layout={'border': '2px solid black', 'margin': '8px', 'padding': '4px', 'width': '1000px'})\n",
    "\n",
    "\n",
    "# Output the schematic UI\n",
    "def display_schematic_ui() -> None:\n",
    "    display(gap_size_ui, block_box_label, blocks_output)\n",
    "    with blocks_output:\n",
    "        display_blocks(blocks_g)\n",
    "    blocks_output.clear_output(wait=True)\n",
    "    display(manage_blocks_ui, schematic_button, schem_gen_output)\n",
    "\n",
    "\n",
    "# Flicker the value of refreshing to force evaluate_pattern() to recalculate\n",
    "def refresh_pattern(b = None) -> None:\n",
    "    refreshing.value = True\n",
    "    refreshing.value = False\n",
    "\n",
    "\n",
    "# Path build pattern UI\n",
    "refresh_btn = w.Button(description=\"Refresh\")\n",
    "refresh_btn.on_click(refresh_pattern)\n",
    "\n",
    "refreshing = w.Checkbox(value=False)\n",
    "\n",
    "b_angle_l = w.Label(\"Boat angle adjustment:\")\n",
    "pbe_thr_l = w.Label(\"Block Error Threshold:\")\n",
    "te_thr_l = w.Label(\"Total Error Threshold:\")\n",
    "boat_angle_adjust = w.BoundedIntText(value=0, max=10, min=-10)\n",
    "block_error_thr = w.FloatSlider(min=0.0000, max=0.025, step=0.0005, value=0.003, readout_format='.4f', continuous_update=False)\n",
    "total_error_thr = w.FloatSlider(min=0.0, max=10.0, step=0.1, value=0.2, continuous_update=False)\n",
    "l_box = w.VBox([b_angle_l, pbe_thr_l, te_thr_l])\n",
    "v_box = w.VBox([boat_angle_adjust, block_error_thr, total_error_thr])\n",
    "pattern_ui = w.HBox([l_box, v_box])\n",
    "pattern_output = w.interactive_output(evaluate_pattern, {'boat_angle_adjust': boat_angle_adjust, 'block_error_thr': block_error_thr, 'total_error_thr': total_error_thr, 'refreshing': refreshing})\n",
    "pattern_output.layout = w.Layout(border='2px solid black', margin='8px', padding='4px', width='1000px')"
   ]
  },
  {
   "cell_type": "markdown",
   "metadata": {},
   "source": [
    "---\n",
    "\n",
    "# Find Angles\n",
    "\n",
    "*Calculate angles and errors for manual alignment and boat alignment.*"
   ]
  },
  {
   "cell_type": "code",
   "execution_count": 2,
   "metadata": {},
   "outputs": [
    {
     "data": {
      "application/vnd.jupyter.widget-view+json": {
       "model_id": "3b9d54360a17488897d3a775b50e154e",
       "version_major": 2,
       "version_minor": 0
      },
      "text/plain": [
       "VBox(children=(HBox(children=(Label(value='Origin:', layout=Layout(width='80px')), IntText(value=0), IntText(v…"
      ]
     },
     "metadata": {},
     "output_type": "display_data"
    },
    {
     "data": {
      "application/vnd.jupyter.widget-view+json": {
       "model_id": "978a820dc031453f80f8b5cb4ca6e798",
       "version_major": 2,
       "version_minor": 0
      },
      "text/plain": [
       "Output(layout=Layout(border_bottom='2px solid black', border_left='2px solid black', border_right='2px solid b…"
      ]
     },
     "metadata": {},
     "output_type": "display_data"
    }
   ],
   "source": [
    "display(coords_ui, coords_output)"
   ]
  },
  {
   "cell_type": "markdown",
   "metadata": {},
   "source": [
    "---\n",
    "\n",
    "# Generate Schematic\n",
    "\n",
    "*Save a Litematica schematic of the entire block path*"
   ]
  },
  {
   "cell_type": "code",
   "execution_count": 3,
   "metadata": {},
   "outputs": [
    {
     "data": {
      "application/vnd.jupyter.widget-view+json": {
       "model_id": "71c121035eda4e00951377f200f384d5",
       "version_major": 2,
       "version_minor": 0
      },
      "text/plain": [
       "HBox(children=(Label(value='Gap Size:'), BoundedIntText(value=0, max=64)))"
      ]
     },
     "metadata": {},
     "output_type": "display_data"
    },
    {
     "data": {
      "application/vnd.jupyter.widget-view+json": {
       "model_id": "714356454e0c43e48db2a5388b91204d",
       "version_major": 2,
       "version_minor": 0
      },
      "text/plain": [
       "Label(value='Current Path Blocks (bottom to top):')"
      ]
     },
     "metadata": {},
     "output_type": "display_data"
    },
    {
     "data": {
      "application/vnd.jupyter.widget-view+json": {
       "model_id": "421393d7d4e6460f80e1bca863e7a2ef",
       "version_major": 2,
       "version_minor": 0
      },
      "text/plain": [
       "Output(layout=Layout(border_bottom='2px solid black', border_left='2px solid black', border_right='2px solid b…"
      ]
     },
     "metadata": {},
     "output_type": "display_data"
    },
    {
     "data": {
      "application/vnd.jupyter.widget-view+json": {
       "model_id": "8d2fae49bd2f4a0380c6979dd9c00bbe",
       "version_major": 2,
       "version_minor": 0
      },
      "text/plain": [
       "VBox(children=(HBox(children=(Combobox(value='minecraft:blue_ice', description='ID:', options=('minecraft:blue…"
      ]
     },
     "metadata": {},
     "output_type": "display_data"
    },
    {
     "data": {
      "application/vnd.jupyter.widget-view+json": {
       "model_id": "932e9c717f044543b5217844793becf8",
       "version_major": 2,
       "version_minor": 0
      },
      "text/plain": [
       "Button(description='Generate Schematic', style=ButtonStyle())"
      ]
     },
     "metadata": {},
     "output_type": "display_data"
    },
    {
     "data": {
      "application/vnd.jupyter.widget-view+json": {
       "model_id": "48a4d3a904004ae8b8d85f9782b45c11",
       "version_major": 2,
       "version_minor": 0
      },
      "text/plain": [
       "Output(layout=Layout(border_bottom='2px solid black', border_left='2px solid black', border_right='2px solid b…"
      ]
     },
     "metadata": {},
     "output_type": "display_data"
    }
   ],
   "source": [
    "display_schematic_ui()"
   ]
  },
  {
   "cell_type": "markdown",
   "metadata": {},
   "source": [
    "---\n",
    "\n",
    "# Find Path Build Pattern\n",
    "\n",
    "*Generate a repeatable block path build pattern*"
   ]
  },
  {
   "cell_type": "code",
   "execution_count": 4,
   "metadata": {},
   "outputs": [
    {
     "data": {
      "application/vnd.jupyter.widget-view+json": {
       "model_id": "5fdf09f391994947bbce45afd8461116",
       "version_major": 2,
       "version_minor": 0
      },
      "text/plain": [
       "Button(description='Refresh', style=ButtonStyle())"
      ]
     },
     "metadata": {},
     "output_type": "display_data"
    },
    {
     "data": {
      "application/vnd.jupyter.widget-view+json": {
       "model_id": "b242d8d8173446bf9c4d613f8148e3ae",
       "version_major": 2,
       "version_minor": 0
      },
      "text/plain": [
       "HBox(children=(VBox(children=(Label(value='Boat angle adjustment:'), Label(value='Block Error Threshold:'), La…"
      ]
     },
     "metadata": {},
     "output_type": "display_data"
    },
    {
     "data": {
      "application/vnd.jupyter.widget-view+json": {
       "model_id": "e42878901aba4e36afa8ae41b7766de2",
       "version_major": 2,
       "version_minor": 0
      },
      "text/plain": [
       "Output(layout=Layout(border_bottom='2px solid black', border_left='2px solid black', border_right='2px solid b…"
      ]
     },
     "metadata": {},
     "output_type": "display_data"
    }
   ],
   "source": [
    "display(refresh_btn, pattern_ui, pattern_output)\n",
    "refresh_pattern()"
   ]
  },
  {
   "cell_type": "code",
   "execution_count": null,
   "metadata": {},
   "outputs": [],
   "source": []
  }
 ],
 "metadata": {
  "kernelspec": {
   "display_name": "likert",
   "language": "python",
   "name": "python3"
  },
  "language_info": {
   "codemirror_mode": {
    "name": "ipython",
    "version": 3
   },
   "file_extension": ".py",
   "mimetype": "text/x-python",
   "name": "python",
   "nbconvert_exporter": "python",
   "pygments_lexer": "ipython3",
   "version": "3.11.5"
  }
 },
 "nbformat": 4,
 "nbformat_minor": 2
}
